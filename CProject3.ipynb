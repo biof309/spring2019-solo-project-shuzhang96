{
 "cells": [
  {
   "cell_type": "markdown",
   "metadata": {},
   "source": [
    "# Project 2: Gathering crystallographic conditions\n",
    "\n",
    "When it comes to structural determination, there are typically three main  X-ray crystallography is "
   ]
  },
  {
   "cell_type": "code",
   "execution_count": 392,
   "metadata": {},
   "outputs": [],
   "source": [
    "import numpy as np\n",
    "import matplotlib.pyplot as plt"
   ]
  },
  {
   "cell_type": "code",
   "execution_count": 342,
   "metadata": {},
   "outputs": [
    {
     "data": {
      "text/plain": [
       "'/Users/Shu/PycharmProjects/spring2019-solo-project-shuzhang96'"
      ]
     },
     "execution_count": 342,
     "metadata": {},
     "output_type": "execute_result"
    }
   ],
   "source": [
    "# Check the current working directory - where am I?\n",
    "import os\n",
    "os.getcwd()"
   ]
  },
  {
   "cell_type": "code",
   "execution_count": 356,
   "metadata": {},
   "outputs": [],
   "source": [
    "# remove spaces from fasta\n",
    "lines = open('./gpr56.fasta', 'r').readlines()\n",
    "new_lines = [line.replace('\\n', '') for line in lines[1:]]\n",
    "sequence = ''.join(new_lines)"
   ]
  },
  {
   "cell_type": "markdown",
   "metadata": {},
   "source": [
    "# DIVIDER"
   ]
  },
  {
   "cell_type": "code",
   "execution_count": 322,
   "metadata": {},
   "outputs": [],
   "source": [
    "import pandas as pd"
   ]
  },
  {
   "cell_type": "code",
   "execution_count": 7,
   "metadata": {},
   "outputs": [],
   "source": [
    "import urllib2\n",
    "from bs4 import BeautifulSoup\n",
    "import re"
   ]
  },
  {
   "cell_type": "code",
   "execution_count": null,
   "metadata": {},
   "outputs": [],
   "source": [
    "url = \n",
    "def make_soup(url)\n",
    "    page = urllib2.urlopen(url)\n",
    "    soup = BeautifulSoup(page, 'html.parser')\n"
   ]
  },
  {
   "cell_type": "code",
   "execution_count": null,
   "metadata": {},
   "outputs": [],
   "source": [
    "# input sequence"
   ]
  },
  {
   "cell_type": "code",
   "execution_count": 102,
   "metadata": {},
   "outputs": [],
   "source": [
    "# Input the sequence\n",
    "sequence = 'AHAGEYGAEALERMFLSFPTTKTYFPHFDLSHGSAQVKGHGKKVADALTAVAHVDDMPNAL'\n",
    "# Put the sequence into the URL\n",
    "url = 'https://www.rcsb.org/pdb/rest/getBlastPDB1?sequence=' + sequence + '&eCutOff=10.0&matrix=BLOSUM62'\n",
    "# Open the page\n",
    "page = urllib2.urlopen(url)"
   ]
  },
  {
   "cell_type": "code",
   "execution_count": null,
   "metadata": {},
   "outputs": [],
   "source": [
    "soup = BeautifulSoup(page, 'html.parser')"
   ]
  },
  {
   "cell_type": "code",
   "execution_count": 277,
   "metadata": {},
   "outputs": [
    {
     "name": "stdout",
     "output_type": "stream",
     "text": [
      "1VWT:1:A,C|pdbid|entity|chain(s)|sequence                             <a href=\"#31992\">109</a>   1e-24\n"
     ]
    }
   ],
   "source": [
    "split = soup.prettify().split('\\n')\n",
    "print str(split[39])"
   ]
  },
  {
   "cell_type": "code",
   "execution_count": 139,
   "metadata": {},
   "outputs": [
    {
     "name": "stdout",
     "output_type": "stream",
     "text": [
      "1VWT:1:A,C|pdbid|entity|chain(s)|sequence                             <a href=\"#31992\">109</a>   1e-24\n",
      "1RVW:1:A|pdbid|entity|chain(s)|sequence                               <a href=\"#25997\">109</a>   1e-24\n",
      "1Z8U:2:B,D|pdbid|entity|chain(s)|sequence                             <a href=\"#37108\">109</a>   2e-24\n",
      "1Y01:2:B|pdbid|entity|chain(s)|sequence                               <a href=\"#35114\">109</a>   2e-24\n",
      "1BZ1:1:A,C|pdbid|entity|chain(s)|sequence                             <a href=\"#2887\">109</a>   2e-24\n",
      "6HBW:1:A,C|pdbid|entity|chain(s)|sequence                             <a href=\"#230772\">108</a>   2e-24\n",
      "6DI4:1:A,C|pdbid|entity|chain(s)|sequence                             <a href=\"#221256\">108</a>   2e-24\n",
      "6BWU:1:A|pdbid|entity|chain(s)|sequence                               <a href=\"#217362\">108</a>   2e-24\n",
      "6BWP:1:A,C|pdbid|entity|chain(s)|sequence                             <a href=\"#217356\">108</a>   2e-24\n",
      "6BNR:1:A,C|pdbid|entity|chain(s)|sequence                             <a href=\"#216767\">108</a>   2e-24\n"
     ]
    }
   ],
   "source": [
    "byline = soup.prettify().splitlines()\n",
    "print('\\n'.join(byline[39:(39+10)]))"
   ]
  },
  {
   "cell_type": "code",
   "execution_count": 151,
   "metadata": {},
   "outputs": [
    {
     "name": "stdout",
     "output_type": "stream",
     "text": [
      "1VWT\n"
     ]
    }
   ],
   "source": [
    "print('\\n'.join(byline[39:40]))[0:4]"
   ]
  },
  {
   "cell_type": "code",
   "execution_count": 138,
   "metadata": {},
   "outputs": [
    {
     "name": "stdout",
     "output_type": "stream",
     "text": [
      "\n",
      "1VWT:1:A,C|pdbid|entity|chain(s)|sequence                             <a href=\"#31992\">109</a>   1e-24\n",
      "1RVW:1:A|pdbid|entity|chain(s)|sequence                               <a href=\"#25997\">109</a>   1e-24\n"
     ]
    }
   ],
   "source": [
    "print('\\n'.join(byline[38:41]))"
   ]
  },
  {
   "cell_type": "code",
   "execution_count": 324,
   "metadata": {},
   "outputs": [
    {
     "name": "stdout",
     "output_type": "stream",
     "text": [
      "MES, PEG-2000 monomethyl ether, pH 6.5, VAPOR DIFFUSION, HANGING DROP, temperature 277K\n"
     ]
    }
   ],
   "source": [
    "pdbid = '1VWT'\n",
    "newurl = 'https://www.rcsb.org/pdb/explore/materialsAndMethods.do?structureId=' + pdbid\n",
    "string = soup2.find_all('td')[3]\n",
    "print(string.get_text())"
   ]
  },
  {
   "cell_type": "code",
   "execution_count": 327,
   "metadata": {},
   "outputs": [
    {
     "data": {
      "text/plain": [
       "'MES, PEG-2000 monomethyl ether, pH 6.5, VAPOR DIFFUSION, HANGING DROP, temperature 277K'"
      ]
     },
     "execution_count": 327,
     "metadata": {},
     "output_type": "execute_result"
    }
   ],
   "source": [
    "str(string.get_text())"
   ]
  },
  {
   "cell_type": "markdown",
   "metadata": {},
   "source": [
    "# Function"
   ]
  },
  {
   "cell_type": "code",
   "execution_count": 218,
   "metadata": {},
   "outputs": [
    {
     "name": "stdout",
     "output_type": "stream",
     "text": [
      "1VWT:1:A,C|pdbid|entity|chain(s)|sequence                             <a href=\"#31992\">109</a>   1e-24\n",
      "1RVW:1:A|pdbid|entity|chain(s)|sequence                               <a href=\"#25997\">109</a>   1e-24\n",
      "1Z8U:2:B,D|pdbid|entity|chain(s)|sequence                             <a href=\"#37108\">109</a>   2e-24\n",
      "1Y01:2:B|pdbid|entity|chain(s)|sequence                               <a href=\"#35114\">109</a>   2e-24\n",
      "1BZ1:1:A,C|pdbid|entity|chain(s)|sequence                             <a href=\"#2887\">109</a>   2e-24\n",
      "6HBW:1:A,C|pdbid|entity|chain(s)|sequence                             <a href=\"#230772\">108</a>   2e-24\n",
      "6DI4:1:A,C|pdbid|entity|chain(s)|sequence                             <a href=\"#221256\">108</a>   2e-24\n",
      "6BWU:1:A|pdbid|entity|chain(s)|sequence                               <a href=\"#217362\">108</a>   2e-24\n",
      "6BWP:1:A,C|pdbid|entity|chain(s)|sequence                             <a href=\"#217356\">108</a>   2e-24\n",
      "6BNR:1:A,C|pdbid|entity|chain(s)|sequence                             <a href=\"#216767\">108</a>   2e-24\n"
     ]
    }
   ],
   "source": [
    "# Input the sequence\n",
    "\n",
    "def find_pdbid(sequence, n):\n",
    "    sequence = 'AHAGEYGAEALERMFLSFPTTKTYFPHFDLSHGSAQVKGHGKKVADALTAVAHVDDMPNAL'\n",
    "    url = 'https://www.rcsb.org/pdb/rest/getBlastPDB1?sequence=' + sequence + '&eCutOff=10.0&matrix=BLOSUM62'\n",
    "    page = urllib2.urlopen(url)\n",
    "    soup = BeautifulSoup(page, 'html.parser')\n",
    "    byline = soup.prettify().splitlines()\n",
    "    print('\\n'.join(byline[39:(39+n)]))\n",
    "\n",
    "find_pdbid(sequence, 10)"
   ]
  },
  {
   "cell_type": "code",
   "execution_count": 221,
   "metadata": {},
   "outputs": [
    {
     "name": "stdout",
     "output_type": "stream",
     "text": [
      "1VWT\n"
     ]
    }
   ],
   "source": [
    "print('\\n'.join(byline[39:40]))[0:4]"
   ]
  },
  {
   "cell_type": "code",
   "execution_count": 242,
   "metadata": {},
   "outputs": [
    {
     "name": "stdout",
     "output_type": "stream",
     "text": [
      "β = 99.54\n",
      "β = 90\n",
      "MES, PEG-2000 monomethyl ether, pH 6.5, VAPOR DIFFUSION, HANGING DROP, temperature 277K\n",
      "MES, PEG2000, pH 6.5, VAPOR DIFFUSION, HANGING DROP, temperature 277K\n",
      "α = 90\n",
      "α = 90\n",
      "10-20% PEG6000, 100mM Hepes pH 7.4\n",
      "3.2M Na/K Phosphate\n",
      "3.4M Na Phosphate/NH4 Sulfate\n",
      "25% PEG 6000, 0.1M HEPES (pH 7.4)\n"
     ]
    }
   ],
   "source": [
    "split = soup.prettify().split('\\n')\n",
    "\n",
    "def find_conditions(n):\n",
    "    for i in range(39, 39 + n):\n",
    "        pdbid =  str(split[i])[0:4]\n",
    "        pdbid_url = 'https://www.rcsb.org/pdb/explore/materialsAndMethods.do?structureId=' + pdbid\n",
    "        new_soup = BeautifulSoup(urllib2.urlopen(pdbid_url), 'html.parser')\n",
    "        string = new_soup.find_all('td')[3]\n",
    "        print(string.get_text())\n",
    "\n",
    "find_conditions(10)"
   ]
  },
  {
   "cell_type": "code",
   "execution_count": 363,
   "metadata": {},
   "outputs": [
    {
     "data": {
      "text/html": [
       "<div>\n",
       "<style scoped>\n",
       "    .dataframe tbody tr th:only-of-type {\n",
       "        vertical-align: middle;\n",
       "    }\n",
       "\n",
       "    .dataframe tbody tr th {\n",
       "        vertical-align: top;\n",
       "    }\n",
       "\n",
       "    .dataframe thead th {\n",
       "        text-align: right;\n",
       "    }\n",
       "</style>\n",
       "<table border=\"1\" class=\"dataframe\">\n",
       "  <thead>\n",
       "    <tr style=\"text-align: right;\">\n",
       "      <th></th>\n",
       "      <th>Entity Name</th>\n",
       "      <th>Crystallization Conditions</th>\n",
       "    </tr>\n",
       "  </thead>\n",
       "  <tbody>\n",
       "    <tr>\n",
       "      <th>0</th>\n",
       "      <td>1VWT: T STATE HUMAN HEMOGLOBIN [ALPHA V96W], ALPHA AQUOMET, BETA DEOXY</td>\n",
       "      <td>N/A</td>\n",
       "    </tr>\n",
       "    <tr>\n",
       "      <th>1</th>\n",
       "      <td>1RVW: R STATE HUMAN HEMOGLOBIN [ALPHA V96W], CARBONMONOXY</td>\n",
       "      <td>N/A</td>\n",
       "    </tr>\n",
       "    <tr>\n",
       "      <th>2</th>\n",
       "      <td>1Z8U: Crystal structure of oxidized alpha hemoglobin bound to AHSP</td>\n",
       "      <td>MES, PEG-2000 monomethyl ether, pH 6.5, VAPOR DIFFUSION, HANGING DROP, temperature 277K</td>\n",
       "    </tr>\n",
       "    <tr>\n",
       "      <th>3</th>\n",
       "      <td>1Y01: Crystal structure of AHSP bound to Fe(II) alpha-hemoglobin</td>\n",
       "      <td>MES, PEG2000, pH 6.5, VAPOR DIFFUSION, HANGING DROP, temperature 277K</td>\n",
       "    </tr>\n",
       "    <tr>\n",
       "      <th>4</th>\n",
       "      <td>1BZ1: HEMOGLOBIN (ALPHA + MET) VARIANT</td>\n",
       "      <td>N/A</td>\n",
       "    </tr>\n",
       "  </tbody>\n",
       "</table>\n",
       "</div>"
      ],
      "text/plain": [
       "                                                              Entity Name  \\\n",
       "0  1VWT: T STATE HUMAN HEMOGLOBIN [ALPHA V96W], ALPHA AQUOMET, BETA DEOXY   \n",
       "1  1RVW: R STATE HUMAN HEMOGLOBIN [ALPHA V96W], CARBONMONOXY                \n",
       "2  1Z8U: Crystal structure of oxidized alpha hemoglobin bound to AHSP       \n",
       "3  1Y01: Crystal structure of AHSP bound to Fe(II) alpha-hemoglobin         \n",
       "4  1BZ1: HEMOGLOBIN (ALPHA + MET) VARIANT                                   \n",
       "\n",
       "                                                                Crystallization Conditions  \n",
       "0  N/A                                                                                      \n",
       "1  N/A                                                                                      \n",
       "2  MES, PEG-2000 monomethyl ether, pH 6.5, VAPOR DIFFUSION, HANGING DROP, temperature 277K  \n",
       "3  MES, PEG2000, pH 6.5, VAPOR DIFFUSION, HANGING DROP, temperature 277K                    \n",
       "4  N/A                                                                                      "
      ]
     },
     "execution_count": 363,
     "metadata": {},
     "output_type": "execute_result"
    }
   ],
   "source": [
    "def find_conditions(n):\n",
    "    cond_list = []\n",
    "    name_list = []\n",
    "    for i in range(39, 39 + n):\n",
    "        \n",
    "        split = soup.prettify().split('\\n')\n",
    "        pdbid =  str(split[i])[0:4]\n",
    "        pdbid_url = 'https://www.rcsb.org/pdb/explore/materialsAndMethods.do?structureId=' + pdbid\n",
    "        new_soup = BeautifulSoup(urllib2.urlopen(pdbid_url), 'html.parser')\n",
    "        \n",
    "        conditions = new_soup.find_all('td')[3]\n",
    "        string = str(conditions)\n",
    "        if '=' in string and 'ELECTRON MICROSCOPY' in soup.find_all('h3'):\n",
    "            cond_list.append('Electron Microscopy')\n",
    "        elif '=' in string:\n",
    "            cond_list.append('N/A')\n",
    "        else:\n",
    "            cond_list.append(str(conditions.get_text()))\n",
    "            \n",
    "        name_list.append(str(new_soup.find_all('title'))[39:-32])\n",
    "        \n",
    "    return pd.DataFrame(list(zip(name_list, cond_list)), columns = ('Entity Name','Crystallization Conditions'))\n",
    "\n",
    "pd.set_option('display.max_colwidth', -1)\n",
    "find_conditions(5)"
   ]
  },
  {
   "cell_type": "code",
   "execution_count": null,
   "metadata": {},
   "outputs": [],
   "source": [
    "str(soup1.find_all('title'))[39:-12]"
   ]
  },
  {
   "cell_type": "code",
   "execution_count": 366,
   "metadata": {},
   "outputs": [],
   "source": [
    "column = find_conditions(5).iloc[:,1]"
   ]
  },
  {
   "cell_type": "code",
   "execution_count": 381,
   "metadata": {},
   "outputs": [],
   "source": [
    "column = list(column)"
   ]
  },
  {
   "cell_type": "code",
   "execution_count": 418,
   "metadata": {},
   "outputs": [],
   "source": [
    "nlist = [item.split(',') for item in column]\n",
    "nlist2 = [val for sublist in nlist for val in sublist]"
   ]
  },
  {
   "cell_type": "code",
   "execution_count": 419,
   "metadata": {},
   "outputs": [
    {
     "data": {
      "text/plain": [
       "['N/A',\n",
       " 'N/A',\n",
       " 'MES',\n",
       " ' PEG-2000 monomethyl ether',\n",
       " ' pH 6.5',\n",
       " ' VAPOR DIFFUSION',\n",
       " ' HANGING DROP',\n",
       " ' temperature 277K',\n",
       " 'MES',\n",
       " ' PEG2000',\n",
       " ' pH 6.5',\n",
       " ' VAPOR DIFFUSION',\n",
       " ' HANGING DROP',\n",
       " ' temperature 277K',\n",
       " 'N/A']"
      ]
     },
     "execution_count": 419,
     "metadata": {},
     "output_type": "execute_result"
    }
   ],
   "source": [
    "nlist2"
   ]
  },
  {
   "cell_type": "code",
   "execution_count": 422,
   "metadata": {},
   "outputs": [],
   "source": [
    "nlist2.remove('N/A')"
   ]
  },
  {
   "cell_type": "code",
   "execution_count": 423,
   "metadata": {},
   "outputs": [
    {
     "data": {
      "text/plain": [
       "['MES',\n",
       " ' PEG-2000 monomethyl ether',\n",
       " ' pH 6.5',\n",
       " ' VAPOR DIFFUSION',\n",
       " ' HANGING DROP',\n",
       " ' temperature 277K',\n",
       " 'MES',\n",
       " ' PEG2000',\n",
       " ' pH 6.5',\n",
       " ' VAPOR DIFFUSION',\n",
       " ' HANGING DROP',\n",
       " ' temperature 277K',\n",
       " 'N/A']"
      ]
     },
     "execution_count": 423,
     "metadata": {},
     "output_type": "execute_result"
    }
   ],
   "source": [
    "nlist2"
   ]
  },
  {
   "cell_type": "code",
   "execution_count": 428,
   "metadata": {},
   "outputs": [
    {
     "data": {
      "text/plain": [
       "<BarContainer object of 8 artists>"
      ]
     },
     "execution_count": 428,
     "metadata": {},
     "output_type": "execute_result"
    },
    {
     "data": {
      "image/png": "[encoded data removed]",
      "text/plain": [
       "<Figure size 1296x216 with 1 Axes>"
      ]
     },
     "metadata": {
      "needs_background": "light"
     },
     "output_type": "display_data"
    }
   ],
   "source": [
    "keys, counts = np.unique(nlist2, return_counts=True)\n",
    "plt.figure(figsize=(18,3))\n",
    "plt.bar(keys, counts)\n",
    "\n",
    "\n",
    "# df = pd.DataFrame(nlist2)\n",
    "# df.iloc[1].value_counts().plot(kind = 'bar')"
   ]
  },
  {
   "cell_type": "code",
   "execution_count": 357,
   "metadata": {},
   "outputs": [
    {
     "data": {
      "text/html": [
       "<div>\n",
       "<style scoped>\n",
       "    .dataframe tbody tr th:only-of-type {\n",
       "        vertical-align: middle;\n",
       "    }\n",
       "\n",
       "    .dataframe tbody tr th {\n",
       "        vertical-align: top;\n",
       "    }\n",
       "\n",
       "    .dataframe thead th {\n",
       "        text-align: right;\n",
       "    }\n",
       "</style>\n",
       "<table border=\"1\" class=\"dataframe\">\n",
       "  <thead>\n",
       "    <tr style=\"text-align: right;\">\n",
       "      <th></th>\n",
       "      <th>a</th>\n",
       "      <th>b</th>\n",
       "    </tr>\n",
       "  </thead>\n",
       "  <tbody>\n",
       "    <tr>\n",
       "      <th>0</th>\n",
       "      <td>1</td>\n",
       "      <td>4</td>\n",
       "    </tr>\n",
       "    <tr>\n",
       "      <th>1</th>\n",
       "      <td>2</td>\n",
       "      <td>5</td>\n",
       "    </tr>\n",
       "    <tr>\n",
       "      <th>2</th>\n",
       "      <td>3</td>\n",
       "      <td>6</td>\n",
       "    </tr>\n",
       "  </tbody>\n",
       "</table>\n",
       "</div>"
      ],
      "text/plain": [
       "   a  b\n",
       "0  1  4\n",
       "1  2  5\n",
       "2  3  6"
      ]
     },
     "execution_count": 357,
     "metadata": {},
     "output_type": "execute_result"
    }
   ],
   "source": [
    "lista = [1,2,3]\n",
    "listb = [4,5,6]\n",
    "pd.DataFrame(list(zip(lista,listb)), columns = ['a', 'b'])"
   ]
  },
  {
   "cell_type": "code",
   "execution_count": 323,
   "metadata": {},
   "outputs": [
    {
     "data": {
      "text/html": [
       "<div>\n",
       "<style scoped>\n",
       "    .dataframe tbody tr th:only-of-type {\n",
       "        vertical-align: middle;\n",
       "    }\n",
       "\n",
       "    .dataframe tbody tr th {\n",
       "        vertical-align: top;\n",
       "    }\n",
       "\n",
       "    .dataframe thead th {\n",
       "        text-align: right;\n",
       "    }\n",
       "</style>\n",
       "<table border=\"1\" class=\"dataframe\">\n",
       "  <thead>\n",
       "    <tr style=\"text-align: right;\">\n",
       "      <th></th>\n",
       "    </tr>\n",
       "  </thead>\n",
       "  <tbody>\n",
       "  </tbody>\n",
       "</table>\n",
       "</div>"
      ],
      "text/plain": [
       "Empty DataFrame\n",
       "Columns: []\n",
       "Index: []"
      ]
     },
     "execution_count": 323,
     "metadata": {},
     "output_type": "execute_result"
    }
   ],
   "source": [
    "pd.DataFrame(a)"
   ]
  },
  {
   "cell_type": "code",
   "execution_count": null,
   "metadata": {},
   "outputs": [],
   "source": [
    "def find_names:\n",
    "    print str(soup.find_all('title'))[39:-12]"
   ]
  },
  {
   "cell_type": "code",
   "execution_count": 273,
   "metadata": {},
   "outputs": [
    {
     "name": "stdout",
     "output_type": "stream",
     "text": [
      "N/A\n",
      "N/A\n",
      "MES, PEG-2000 monomethyl ether, pH 6.5, VAPOR DIFFUSION, HANGING DROP, temperature 277K\n",
      "MES, PEG2000, pH 6.5, VAPOR DIFFUSION, HANGING DROP, temperature 277K\n"
     ]
    },
    {
     "data": {
      "text/plain": [
       "str"
      ]
     },
     "execution_count": 273,
     "metadata": {},
     "output_type": "execute_result"
    }
   ],
   "source": [
    "type(str(find_conditions(4)))"
   ]
  },
  {
   "cell_type": "code",
   "execution_count": null,
   "metadata": {},
   "outputs": [],
   "source": [
    "\n",
    "\n",
    "string = soup2.find_all('td')[3]\n",
    "print(string.get_text())"
   ]
  },
  {
   "cell_type": "code",
   "execution_count": 193,
   "metadata": {},
   "outputs": [
    {
     "data": {
      "text/plain": [
       "u'1VWT'"
      ]
     },
     "execution_count": 193,
     "metadata": {},
     "output_type": "execute_result"
    }
   ],
   "source": [
    "def find_conditions(n):\n",
    "    pdbids = []\n",
    "    for i in range(39, 39 + n):\n",
    "        print('\\n'.join(byline[i:(i+1)]))[0:4]\n",
    "\n",
    "find_conditions(5)"
   ]
  },
  {
   "cell_type": "code",
   "execution_count": 197,
   "metadata": {},
   "outputs": [
    {
     "ename": "SyntaxError",
     "evalue": "invalid syntax (<ipython-input-197-04465f8df52d>, line 1)",
     "output_type": "error",
     "traceback": [
      "\u001b[0;36m  File \u001b[0;32m\"<ipython-input-197-04465f8df52d>\"\u001b[0;36m, line \u001b[0;32m1\u001b[0m\n\u001b[0;31m    id1 = print('\\n'.join(byline[40:(40+1)]))[0:4]\u001b[0m\n\u001b[0m              ^\u001b[0m\n\u001b[0;31mSyntaxError\u001b[0m\u001b[0;31m:\u001b[0m invalid syntax\n"
     ]
    }
   ],
   "source": [
    "id1 = print('\\n'.join(byline[40:(40+1)]))[0:4]"
   ]
  },
  {
   "cell_type": "code",
   "execution_count": 208,
   "metadata": {},
   "outputs": [
    {
     "data": {
      "text/plain": [
       "'1VWT:1:A,C|pdbid|entity|chain(s)|sequence                             <a href=\"#31992\">109</a>   1e-24'"
      ]
     },
     "execution_count": 208,
     "metadata": {},
     "output_type": "execute_result"
    }
   ],
   "source": [
    "str(soup.prettify().splitlines()[39])"
   ]
  },
  {
   "cell_type": "markdown",
   "metadata": {},
   "source": [
    "# divider"
   ]
  },
  {
   "cell_type": "code",
   "execution_count": 283,
   "metadata": {},
   "outputs": [],
   "source": [
    "def make_soup(url):\n",
    "    page = urllib2.urlopen(url)\n",
    "    return BeautifulSoup(page, 'html.parser')\n"
   ]
  },
  {
   "cell_type": "code",
   "execution_count": 284,
   "metadata": {},
   "outputs": [],
   "source": [
    "soup1 = make_soup('https://www.rcsb.org/pdb/explore/materialsAndMethods.do?structureId=6R4O')"
   ]
  },
  {
   "cell_type": "code",
   "execution_count": 293,
   "metadata": {},
   "outputs": [
    {
     "data": {
      "text/plain": [
       "[<h3>\\n            ELECTRON MICROSCOPY Experimental Data\\n            \\n        </h3>]"
      ]
     },
     "execution_count": 293,
     "metadata": {},
     "output_type": "execute_result"
    }
   ],
   "source": [
    "soup1.find_all('h3')"
   ]
  },
  {
   "cell_type": "code",
   "execution_count": 296,
   "metadata": {},
   "outputs": [],
   "source": [
    "soup3 = make_soup('http://www.rcsb.org/pdb/explore/materialsAndMethods.do?structureId=1Z8U')"
   ]
  },
  {
   "cell_type": "code",
   "execution_count": 301,
   "metadata": {},
   "outputs": [
    {
     "data": {
      "text/plain": [
       "<h3>\\n            X-RAY DIFFRACTION Experimental Data\\n            \\n                        &amp; Validation\\n            \\n        </h3>"
      ]
     },
     "execution_count": 301,
     "metadata": {},
     "output_type": "execute_result"
    }
   ],
   "source": [
    "soup3.find_all('h3')[0]"
   ]
  },
  {
   "cell_type": "code",
   "execution_count": 332,
   "metadata": {},
   "outputs": [
    {
     "data": {
      "text/plain": [
       "False"
      ]
     },
     "execution_count": 332,
     "metadata": {},
     "output_type": "execute_result"
    }
   ],
   "source": [
    "'ELECTRON MICROSCOPY' in soup3.find_all('h3')[0]"
   ]
  },
  {
   "cell_type": "code",
   "execution_count": 362,
   "metadata": {},
   "outputs": [
    {
     "data": {
      "text/plain": [
       "'1Z8U: Crystal structure of oxidized alpha hemoglobin bound to AHSP'"
      ]
     },
     "execution_count": 362,
     "metadata": {},
     "output_type": "execute_result"
    }
   ],
   "source": [
    "str(soup3.find_all('title'))[39:-32]"
   ]
  },
  {
   "cell_type": "code",
   "execution_count": null,
   "metadata": {},
   "outputs": [],
   "source": []
  }
 ],
 "metadata": {
  "kernelspec": {
   "display_name": "Python 2",
   "language": "python",
   "name": "python2"
  },
  "language_info": {
   "codemirror_mode": {
    "name": "ipython",
    "version": 2
   },
   "file_extension": ".py",
   "mimetype": "text/x-python",
   "name": "python",
   "nbconvert_exporter": "python",
   "pygments_lexer": "ipython2",
   "version": "2.7.15"
  }
 },
 "nbformat": 4,
 "nbformat_minor": 2
}
